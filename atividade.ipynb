{
  "nbformat": 4,
  "nbformat_minor": 0,
  "metadata": {
    "colab": {
      "provenance": []
    },
    "kernelspec": {
      "name": "python3",
      "display_name": "Python 3"
    },
    "language_info": {
      "name": "python"
    }
  },
  "cells": [
    {
      "cell_type": "markdown",
      "source": [
        "## Análise Exploratória dos Dados - Ifood\n",
        "\n",
        "O conjunto de dados é composto por clientes da empresa Ifood com dados sobre:\n",
        "\n",
        "- Perfis de clientes  \n",
        "- Preferências do produto  \n",
        "- Sucessos/fracassos da campanha  \n",
        "- Desempenho do canal  \n",
        "\n",
        "---\n",
        "\n",
        "### 🎯 Objetivo\n",
        "\n",
        "O objetivo de hoje é fazer uma análise exploratória desses dados. Responda usando a sua ferramenta de preferência:\n",
        "\n",
        "1. **Quantos dados temos?**  \n",
        "   - Verifique o número de linhas e colunas.\n",
        "\n",
        "2. **Quais são as colunas numéricas?**  \n",
        "   - Liste as colunas com dados do tipo numérico.\n",
        "\n",
        "3. **Temos duplicados na nossa base?**  \n",
        "   - Se houver, remova-os.\n",
        "\n",
        "4. **Temos dados nulos nessa base?**  \n",
        "   - Eles indicam algo? O que fazer com eles?\n",
        "\n",
        "5. **Estatísticas descritivas das colunas numéricas:**  \n",
        "   - Calcule:\n",
        "     - Média\n",
        "     - Mediana\n",
        "     - Percentil 25%\n",
        "     - Percentil 75%\n",
        "     - Valor mínimo\n",
        "     - Valor máximo\n"
      ],
      "metadata": {
        "id": "Y5p6yNYysVtL"
      }
    }
  ]
}